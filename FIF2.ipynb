{
 "cells": [
  {
   "cell_type": "code",
   "execution_count": null,
   "id": "425da857-09b6-4218-a597-830904d55e6e",
   "metadata": {},
   "outputs": [],
   "source": [
    "import random\n",
    "import matplotlib.pyplot as plt\n",
    "\n",
    "# Input data\n",
    "x = [0, 0.2, 0.4, 0.6, 0.8, 1.0]\n",
    "F = [9, 11, 15, 8, 12, 10]\n",
    "\n",
    "# Predefined scaling factors\n",
    "#dn, d=0, [0]*5 # For linear FI\n",
    "dn, d = 1, [-0.3, -0.4, -0.3, 0.4, 0.5]\n",
    "#dn, d = 2, [-0.4, 0.3, -0.4, -0.4, 0.4]\n",
    "#dn, d = 3, [0.3, -0.5, 0.4, -0.3, -0.5]\n",
    "#dn, d = 4, [-0.2, -0.6, 0.3, 0.5, 0.3]\n",
    "\n",
    "# Probabilities for each map (make sure they sum up to 1)\n",
    "probabilities = [0.1, 0.2, 0.3, 0.2, 0.2]\n",
    "\n",
    "# Compute b\n",
    "b = x[5] - x[0]\n",
    "\n",
    "# Initialize transformation coefficients\n",
    "a = [0] * 6\n",
    "e = [0] * 6\n",
    "c = [0] * 6\n",
    "ff = [0] * 6\n",
    "\n",
    "for n in range(1, 6):\n",
    "    a[n] = (x[n] - x[n-1]) / b\n",
    "    e[n] = (x[5] * x[n-1] - x[0] * x[n]) / b\n",
    "    c[n] = (F[n] - F[n-1] - d[n-1] * (F[5] - F[0])) / b\n",
    "    ff[n] = (x[5] * F[n-1] - x[0] * F[n] - d[n-1] * (x[5] * F[0] - x[0] * F[5])) / b\n",
    "\n",
    "# Get the number of iterations\n",
    "iterations = int(input(\"Enter the number of iterations: \"))\n",
    "\n",
    "# Random Iteration Algorithm\n",
    "x_plot, y_plot = [], []\n",
    "x_cur, y_cur = 0, 0  # Start from the initial point (0,0)\n",
    "\n",
    "for _ in range(iterations):\n",
    "    k = random.choices([1, 2, 3, 4, 5], weights=probabilities)[0] # Randomly choose transformation based on probabilities\n",
    "    new_x = a[k] * x_cur + e[k]\n",
    "    new_y = c[k] * x_cur + d[k-1] * y_cur + ff[k]\n",
    "    \n",
    "    # Update current x, y\n",
    "    x_cur, y_cur = new_x, new_y\n",
    "    \n",
    "    # Store the point for plotting\n",
    "    x_plot.append(x_cur)\n",
    "    y_plot.append(y_cur)\n",
    "\n",
    "# Plotting the points\n",
    "plt.scatter(x_plot, y_plot, s=1, color='blue')\n",
    "#plt.text(0.1, 5, f'Figure {dn}. Scaling factors= {tuple(d)}')\n",
    "\n",
    "# Display the plot\n",
    "plt.show()"
   ]
  },
  {
   "cell_type": "code",
   "execution_count": null,
   "id": "5a4dd699-a317-4b1d-960f-8bf46a44d21a",
   "metadata": {},
   "outputs": [],
   "source": []
  },
  {
   "cell_type": "code",
   "execution_count": null,
   "id": "39fec824-94a7-4f64-9db5-0c0207bf5085",
   "metadata": {},
   "outputs": [],
   "source": []
  }
 ],
 "metadata": {
  "kernelspec": {
   "display_name": "Python 3 (ipykernel)",
   "language": "python",
   "name": "python3"
  },
  "language_info": {
   "codemirror_mode": {
    "name": "ipython",
    "version": 3
   },
   "file_extension": ".py",
   "mimetype": "text/x-python",
   "name": "python",
   "nbconvert_exporter": "python",
   "pygments_lexer": "ipython3",
   "version": "3.12.7"
  }
 },
 "nbformat": 4,
 "nbformat_minor": 5
}
